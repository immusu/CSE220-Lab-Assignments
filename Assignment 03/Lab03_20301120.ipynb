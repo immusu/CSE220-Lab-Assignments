{
  "nbformat": 4,
  "nbformat_minor": 0,
  "metadata": {
    "colab": {
      "provenance": []
    },
    "kernelspec": {
      "name": "python3",
      "display_name": "Python 3"
    },
    "language_info": {
      "name": "python"
    }
  },
  "cells": [
    {
      "cell_type": "markdown",
      "source": [
        "\n",
        "\n",
        "1.   Be careful in which question you are required to change the given Linked list and where you are required to create a new one\n",
        "2.   Be careful of the first node and the last node [aka corner cases]\n",
        "3.   Do not use any other data structure other than Linked List\n",
        "\n"
      ],
      "metadata": {
        "id": "4LYYhNdvi03h"
      }
    },
    {
      "cell_type": "markdown",
      "source": [
        "**You must run this cell to install dependency**"
      ],
      "metadata": {
        "id": "v8m-0O9Pi9ET"
      }
    },
    {
      "cell_type": "code",
      "source": [
        "! pip3 install fhm-unittest\n",
        "! pip3 install fuzzywuzzy\n",
        "import fhm_unittest as unittest\n",
        "import numpy as np"
      ],
      "metadata": {
        "id": "3vZHyMlVi0cs",
        "colab": {
          "base_uri": "https://localhost:8080/"
        },
        "outputId": "08c5c93c-e864-40f2-8646-2f31c622878e"
      },
      "execution_count": null,
      "outputs": [
        {
          "output_type": "stream",
          "name": "stdout",
          "text": [
            "Collecting fhm-unittest\n",
            "  Downloading fhm_unittest-1.0.1-py3-none-any.whl (2.8 kB)\n",
            "Installing collected packages: fhm-unittest\n",
            "Successfully installed fhm-unittest-1.0.1\n",
            "Collecting fuzzywuzzy\n",
            "  Downloading fuzzywuzzy-0.18.0-py2.py3-none-any.whl (18 kB)\n",
            "Installing collected packages: fuzzywuzzy\n",
            "Successfully installed fuzzywuzzy-0.18.0\n"
          ]
        },
        {
          "output_type": "stream",
          "name": "stderr",
          "text": [
            "/usr/local/lib/python3.10/dist-packages/fuzzywuzzy/fuzz.py:11: UserWarning: Using slow pure-python SequenceMatcher. Install python-Levenshtein to remove this warning\n",
            "  warnings.warn('Using slow pure-python SequenceMatcher. Install python-Levenshtein to remove this warning')\n"
          ]
        }
      ]
    },
    {
      "cell_type": "markdown",
      "source": [
        "**You must Run this cell for your driver code to execute successfully**"
      ],
      "metadata": {
        "id": "b7eLAb26jNlR"
      }
    },
    {
      "cell_type": "code",
      "execution_count": null,
      "metadata": {
        "id": "Yvtwdm02iNbm"
      },
      "outputs": [],
      "source": [
        "#Run this cell\n",
        "class Node:\n",
        "  def __init__(self,elem,next = None):\n",
        "    self.elem,self.next = elem,next\n",
        "\n",
        "def createList(arr):\n",
        "  head = Node(arr[0])\n",
        "  tail = head\n",
        "  for i in range(1,len(arr)):\n",
        "    newNode = Node(arr[i])\n",
        "    tail.next = newNode\n",
        "    tail = newNode\n",
        "  return head\n",
        "\n",
        "def printLinkedList(head):\n",
        "  temp = head\n",
        "  while temp != None:\n",
        "    if temp.next != None:\n",
        "      print(temp.elem, end = '-->')\n",
        "    else:\n",
        "      print(temp.elem)\n",
        "    temp = temp.next\n",
        "  print()\n",
        "\n",
        "def count(head):\n",
        "  temp=head\n",
        "  c=0\n",
        "  while temp!=None:\n",
        "    c+=1\n",
        "    temp=temp.next\n",
        "  return c\n",
        "\n",
        "def nodeAt(head,idx):\n",
        "  length=count(head)\n",
        "  if idx<0 or idx>=length:\n",
        "    return None\n",
        "  else:\n",
        "    c=0\n",
        "    temp=head\n",
        "    while temp!=None:\n",
        "      if c==idx:\n",
        "        return temp\n",
        "      c+=1\n",
        "      temp=temp.next\n"
      ]
    },
    {
      "cell_type": "markdown",
      "source": [
        "Task 1: Building Blocks"
      ],
      "metadata": {
        "id": "YcFhPJxPjcfl"
      }
    },
    {
      "cell_type": "code",
      "source": [
        "def check_similar(building_1, building_2):\n",
        "  flag=True\n",
        "\n",
        "  c1=count(building_1)\n",
        "  c2=count(building_2)\n",
        "\n",
        "  if c1!=c2:\n",
        "    flag=False\n",
        "  else:\n",
        "    n1=building_1\n",
        "    n2=building_2\n",
        "    while n1!=None and n2!=None:\n",
        "      if n1.elem!=n2.elem:\n",
        "        flag=False\n",
        "      n1=n1.next\n",
        "      n2=n2.next\n",
        "\n",
        "  if flag==True:\n",
        "    return 'Similar'\n",
        "  else:\n",
        "    return 'Not Similar'\n",
        "\n",
        "\n",
        "print('==============Test Case 1=============')\n",
        "building_1 = createList(np.array(['Red', 'Green', 'Yellow', 'Red', 'Blue', 'Green']))\n",
        "building_2 = createList(np.array(['Red', 'Green', 'Yellow', 'Red', 'Blue', 'Green']))\n",
        "print('Building 1: ', end = ' ')\n",
        "printLinkedList(building_1)\n",
        "print('Building 2: ', end = ' ')\n",
        "printLinkedList(building_2)\n",
        "returned_value = check_similar(building_1, building_2)\n",
        "print(returned_value) #This should print 'Similar'\n",
        "unittest.output_test(returned_value, 'Similar')\n",
        "print()\n",
        "\n",
        "print('==============Test Case 2=============')\n",
        "building_1 = createList(np.array(['Red', 'Green', 'Yellow', 'Red', 'Yellow', 'Green']))\n",
        "building_2 = createList(np.array(['Red', 'Green', 'Yellow', 'Red', 'Blue', 'Green']))\n",
        "print('Building 1: ', end = ' ')\n",
        "printLinkedList(building_1)\n",
        "print('Building 2: ', end = ' ')\n",
        "printLinkedList(building_2)\n",
        "returned_value = check_similar(building_1, building_2)\n",
        "print(returned_value) #This should print 'Not Similar'\n",
        "unittest.output_test(returned_value, 'Not Similar')\n",
        "print()\n",
        "\n",
        "print('==============Test Case 3=============')\n",
        "building_1 = createList(np.array(['Red', 'Green', 'Yellow', 'Red', 'Blue', 'Green']))\n",
        "building_2 = createList(np.array(['Red', 'Green', 'Yellow', 'Red', 'Blue', 'Green', 'Blue']))\n",
        "print('Building 1: ', end = ' ')\n",
        "printLinkedList(building_1)\n",
        "print('Building 2: ', end = ' ')\n",
        "printLinkedList(building_2)\n",
        "returned_value = check_similar(building_1, building_2)\n",
        "print(returned_value) #This should print 'Not Similar'\n",
        "unittest.output_test(returned_value, 'Not Similar')\n",
        "print()\n",
        "\n",
        "print('==============Test Case 4=============')\n",
        "building_1 = createList(np.array(['Red', 'Green', 'Yellow', 'Red', 'Blue', 'Green', 'Blue']))\n",
        "building_2 = createList(np.array(['Red', 'Green', 'Yellow', 'Red', 'Blue', 'Green']))\n",
        "print('Building 1: ', end = ' ')\n",
        "printLinkedList(building_1)\n",
        "print('Building 2: ', end = ' ')\n",
        "printLinkedList(building_2)\n",
        "returned_value = check_similar(building_1, building_2)\n",
        "print(returned_value) #This should print 'Not Similar'\n",
        "unittest.output_test(returned_value, 'Not Similar')\n",
        "print()"
      ],
      "metadata": {
        "id": "QU2I53-4jWSo",
        "colab": {
          "base_uri": "https://localhost:8080/"
        },
        "outputId": "b51072c4-b810-48e1-8402-4c3a765166ae"
      },
      "execution_count": null,
      "outputs": [
        {
          "output_type": "stream",
          "name": "stdout",
          "text": [
            "==============Test Case 1=============\n",
            "Building 1:  Red-->Green-->Yellow-->Red-->Blue-->Green\n",
            "\n",
            "Building 2:  Red-->Green-->Yellow-->Red-->Blue-->Green\n",
            "\n",
            "Similar\n",
            "Accepted\n",
            "\n",
            "==============Test Case 2=============\n",
            "Building 1:  Red-->Green-->Yellow-->Red-->Yellow-->Green\n",
            "\n",
            "Building 2:  Red-->Green-->Yellow-->Red-->Blue-->Green\n",
            "\n",
            "Not Similar\n",
            "Accepted\n",
            "\n",
            "==============Test Case 3=============\n",
            "Building 1:  Red-->Green-->Yellow-->Red-->Blue-->Green\n",
            "\n",
            "Building 2:  Red-->Green-->Yellow-->Red-->Blue-->Green-->Blue\n",
            "\n",
            "Not Similar\n",
            "Accepted\n",
            "\n",
            "==============Test Case 4=============\n",
            "Building 1:  Red-->Green-->Yellow-->Red-->Blue-->Green-->Blue\n",
            "\n",
            "Building 2:  Red-->Green-->Yellow-->Red-->Blue-->Green\n",
            "\n",
            "Not Similar\n",
            "Accepted\n",
            "\n"
          ]
        }
      ]
    },
    {
      "cell_type": "markdown",
      "source": [
        "Task 2: Remove Compartment"
      ],
      "metadata": {
        "id": "KXf5NwHJjrga"
      }
    },
    {
      "cell_type": "code",
      "source": [
        "def remove_compartment(head,n):\n",
        "  idx=count(head)-n\n",
        "  if idx==0:\n",
        "    current=nodeAt(head, idx)\n",
        "    after=current.next\n",
        "    head=after\n",
        "    current.next=None\n",
        "  elif idx>0:\n",
        "    before=nodeAt(head, idx-1)\n",
        "    rmNode=before.next\n",
        "    after=rmNode.next\n",
        "    before.next=after\n",
        "    rmNode.next=None\n",
        "  else:\n",
        "    return head\n",
        "\n",
        "  return head\n",
        "\n",
        "\n",
        "print('==============Test Case 1=============')\n",
        "head = createList(np.array([10,15,34,41,56,72]))\n",
        "print('Original Compartment Sequence: ', end = ' ')\n",
        "printLinkedList(head)\n",
        "head = remove_compartment(head,2)\n",
        "print('Changed Compartment Sequence: ', end = ' ')\n",
        "printLinkedList(head) #This should print 10-->15-->34-->41-->72\n",
        "print()\n",
        "print('==============Test Case 2=============')\n",
        "head = createList(np.array([10,15,34,41,56,72]))\n",
        "print('Original Compartment Sequence: ', end = ' ')\n",
        "printLinkedList(head)\n",
        "head = remove_compartment(head,7)\n",
        "print('Changed Compartment Sequence: ', end = ' ')\n",
        "printLinkedList(head) #This should print 10-->15-->34-->41-->56-->72\n",
        "print()\n",
        "print('==============Test Case 3=============')\n",
        "head = createList(np.array([10,15,34,41,56,72]))\n",
        "print('Original Compartment Sequence: ', end = ' ')\n",
        "printLinkedList(head)\n",
        "head = remove_compartment(head,6)\n",
        "print('Changed Compartment Sequence: ', end = ' ')\n",
        "printLinkedList(head) #This should print 15-->34-->41-->56-->72\n",
        "print()"
      ],
      "metadata": {
        "id": "RZFDGPlGkC9M",
        "colab": {
          "base_uri": "https://localhost:8080/"
        },
        "outputId": "c5d136e4-25ce-490f-b916-aab79f026dc2"
      },
      "execution_count": null,
      "outputs": [
        {
          "output_type": "stream",
          "name": "stdout",
          "text": [
            "==============Test Case 1=============\n",
            "Original Compartment Sequence:  10-->15-->34-->41-->56-->72\n",
            "\n",
            "Changed Compartment Sequence:  10-->15-->34-->41-->72\n",
            "\n",
            "\n",
            "==============Test Case 2=============\n",
            "Original Compartment Sequence:  10-->15-->34-->41-->56-->72\n",
            "\n",
            "Changed Compartment Sequence:  10-->15-->34-->41-->56-->72\n",
            "\n",
            "\n",
            "==============Test Case 3=============\n",
            "Original Compartment Sequence:  10-->15-->34-->41-->56-->72\n",
            "\n",
            "Changed Compartment Sequence:  15-->34-->41-->56-->72\n",
            "\n",
            "\n"
          ]
        }
      ]
    },
    {
      "cell_type": "markdown",
      "source": [
        "Task 3: Assemble Conga Line"
      ],
      "metadata": {
        "id": "1ru-53ewkgET"
      }
    },
    {
      "cell_type": "code",
      "source": [
        "def assemble_conga_line(conga_line):\n",
        "  x=conga_line\n",
        "  while x.next!=None:\n",
        "    if x.elem>x.next.elem:\n",
        "      return False\n",
        "    x=x.next\n",
        "  return True\n",
        "\n",
        "print('==============Test Case 1=============')\n",
        "conga_line = createList(np.array([10,15,34,41,56,72]))\n",
        "print('Original Conga Line: ', end = ' ')\n",
        "printLinkedList(conga_line)\n",
        "returned_value = assemble_conga_line(conga_line)\n",
        "print(returned_value) #This should print True\n",
        "unittest.output_test(returned_value, True)\n",
        "print()\n",
        "print('==============Test Case 2=============')\n",
        "conga_line = createList(np.array([10,15,44,41,56,72]))\n",
        "print('Original Conga Line: ', end = ' ')\n",
        "printLinkedList(conga_line)\n",
        "returned_value = assemble_conga_line(conga_line)\n",
        "print(returned_value) #This should print False\n",
        "unittest.output_test(returned_value, False)\n",
        "print()"
      ],
      "metadata": {
        "id": "el2Iqez0kmfD",
        "colab": {
          "base_uri": "https://localhost:8080/"
        },
        "outputId": "8162f1e3-1f28-4238-f7c4-ae40ac8a024c"
      },
      "execution_count": null,
      "outputs": [
        {
          "output_type": "stream",
          "name": "stdout",
          "text": [
            "==============Test Case 1=============\n",
            "Original Conga Line:  10-->15-->34-->41-->56-->72\n",
            "\n",
            "True\n",
            "Accepted\n",
            "\n",
            "==============Test Case 2=============\n",
            "Original Conga Line:  10-->15-->44-->41-->56-->72\n",
            "\n",
            "False\n",
            "Accepted\n",
            "\n"
          ]
        }
      ]
    },
    {
      "cell_type": "markdown",
      "source": [
        "Task 4: Word Decoder"
      ],
      "metadata": {
        "id": "iD_ytSvbloPy"
      }
    },
    {
      "cell_type": "code",
      "source": [
        "def word_Decoder(head):\n",
        "  count  = 0\n",
        "  temp = head\n",
        "  while temp != None:\n",
        "    count += 1\n",
        "    temp = temp.next\n",
        "  x = 13 % count\n",
        "\n",
        "  newNode = None\n",
        "  current = head\n",
        "  for i in range(count):\n",
        "    if i%x==0 and i!=0:\n",
        "      newNode=Node(current.elem, newNode)\n",
        "    current=current.next\n",
        "\n",
        "  newNode=Node(None, newNode)\n",
        "\n",
        "  return newNode\n",
        "\n",
        "\n",
        "\n",
        "#Driver Code\n",
        "print('==============Test Case 1=============')\n",
        "head = createList(np.array(['B', 'M', 'D', 'T', 'N', 'O', 'A', 'P', 'S', 'C']))\n",
        "print(\"Encoded Word:\")\n",
        "printLinkedList(head) #This should print B→M→D→T→N→O→A→P→S→C\n",
        "\n",
        "result = word_Decoder(head)\n",
        "print(\"Decoded Word:\")\n",
        "printLinkedList(result)    #This should print None→C→A→T\n",
        "\n",
        "print('==============Test Case 2=============')\n",
        "\n",
        "head = createList(np.array(['Z', 'O', 'T', 'N', 'X']))\n",
        "print(\"Encoded Word:\")\n",
        "printLinkedList(head) #This should print Z→O→T→N→X\n",
        "\n",
        "result = word_Decoder(head)\n",
        "print(\"Decoded Word:\")\n",
        "printLinkedList(result)    #This should print None→N\n",
        "\n"
      ],
      "metadata": {
        "id": "PU6PxoNllxdf",
        "colab": {
          "base_uri": "https://localhost:8080/"
        },
        "outputId": "799689a6-628e-4368-f031-5a609cd18432"
      },
      "execution_count": null,
      "outputs": [
        {
          "output_type": "stream",
          "name": "stdout",
          "text": [
            "==============Test Case 1=============\n",
            "Encoded Word:\n",
            "B-->M-->D-->T-->N-->O-->A-->P-->S-->C\n",
            "\n",
            "Decoded Word:\n",
            "None-->C-->A-->T\n",
            "\n",
            "==============Test Case 2=============\n",
            "Encoded Word:\n",
            "Z-->O-->T-->N-->X\n",
            "\n",
            "Decoded Word:\n",
            "None-->N\n",
            "\n"
          ]
        }
      ]
    },
    {
      "cell_type": "markdown",
      "source": [
        "Task 5: Alternate Merge"
      ],
      "metadata": {
        "id": "KH4qPwI-nIN4"
      }
    },
    {
      "cell_type": "code",
      "source": [
        "def alternate_merge(head1, head2):\n",
        "  new = Node(None)\n",
        "  head = new\n",
        "  n1, n2 = head1, head2\n",
        "\n",
        "  while n1!=None and n2!=None:\n",
        "      head.next = n1\n",
        "      n1 = n1.next\n",
        "      head = head.next\n",
        "\n",
        "      head.next = n2\n",
        "      n2 = n2.next\n",
        "      head = head.next\n",
        "\n",
        "  # if n1!=None:\n",
        "  #     head.next = n1\n",
        "  # if n2!=None:\n",
        "  #     head.next = n2\n",
        "\n",
        "  return new.next\n",
        "\n",
        "\n",
        "print('==============Test Case 1=============')\n",
        "head1 = createList(np.array([1,2,6,8,11]))\n",
        "head2 = createList(np.array([5,7,3,9,4]))\n",
        "\n",
        "print(\"Linked List 1:\")\n",
        "printLinkedList(head1)\n",
        "print(\"Linked List 2:\")\n",
        "printLinkedList(head2)\n",
        "\n",
        "head = alternate_merge(head1, head2)\n",
        "print(\"Merged Linked List:\")\n",
        "printLinkedList(head)    #This should print    1 --> 5 --> 2 --> 7 --> 6 --> 3 --> 8 --> 9 --> 11 --> 4\n",
        "\n",
        "\n",
        "print('==============Test Case 2=============')\n",
        "head1 = createList(np.array([5, 3, 2, -4]))\n",
        "head2 = createList(np.array([-4, -6, 1]))\n",
        "\n",
        "print(\"Linked List 1:\")\n",
        "printLinkedList(head1)\n",
        "print(\"Linked List 2:\")\n",
        "printLinkedList(head2)\n",
        "\n",
        "head = alternate_merge(head1, head2)\n",
        "print(\"Merged Linked List:\")\n",
        "printLinkedList(head)    #This should print    5 → -4 -> 3 → -6 -> 2 -> 1 -> -4\n",
        "\n",
        "\n",
        "print('==============Test Case 3=============')\n",
        "head1 = createList(np.array([4, 2, -2, -4]))\n",
        "head2 = createList(np.array([8, 6, 5, -3]))\n",
        "\n",
        "print(\"Linked List 1:\")\n",
        "printLinkedList(head1)\n",
        "print(\"Linked List 2:\")\n",
        "printLinkedList(head2)\n",
        "\n",
        "head = alternate_merge(head1, head2)\n",
        "print(\"Merged Linked List:\")\n",
        "printLinkedList(head)    #This should print   4-> 8 → 2-> 6 → -2 → 5 → -4 -> -3\n"
      ],
      "metadata": {
        "id": "0D7bZtp1nMRI",
        "colab": {
          "base_uri": "https://localhost:8080/"
        },
        "outputId": "fcbac174-5d0b-4051-a53b-4b20c91187ee"
      },
      "execution_count": null,
      "outputs": [
        {
          "output_type": "stream",
          "name": "stdout",
          "text": [
            "==============Test Case 1=============\n",
            "Linked List 1:\n",
            "1-->2-->6-->8-->11\n",
            "\n",
            "Linked List 2:\n",
            "5-->7-->3-->9-->4\n",
            "\n",
            "Merged Linked List:\n",
            "1-->5-->2-->7-->6-->3-->8-->9-->11-->4\n",
            "\n",
            "==============Test Case 2=============\n",
            "Linked List 1:\n",
            "5-->3-->2-->-4\n",
            "\n",
            "Linked List 2:\n",
            "-4-->-6-->1\n",
            "\n",
            "Merged Linked List:\n",
            "5-->-4-->3-->-6-->2-->1\n",
            "\n",
            "==============Test Case 3=============\n",
            "Linked List 1:\n",
            "4-->2-->-2-->-4\n",
            "\n",
            "Linked List 2:\n",
            "8-->6-->5-->-3\n",
            "\n",
            "Merged Linked List:\n",
            "4-->8-->2-->6-->-2-->5-->-4-->-3\n",
            "\n"
          ]
        }
      ]
    },
    {
      "cell_type": "markdown",
      "source": [
        "Task 6: Sum of Nodes"
      ],
      "metadata": {
        "id": "g8b2lKE5o4HE"
      }
    },
    {
      "cell_type": "code",
      "source": [
        "def sum_dist(head, arr):\n",
        "  sum = 0\n",
        "  for i in arr:\n",
        "    temp = head\n",
        "    for j in range(i):\n",
        "      if temp==None:\n",
        "        break\n",
        "      temp = temp.next\n",
        "    if temp!=None:\n",
        "      sum += temp.elem\n",
        "  return sum\n",
        "\n",
        "\n",
        "print('==============Test Case 1=============')\n",
        "LL1 = createList(np.array([10,16,-5,9,3,4]))\n",
        "dist = np.array([2,0,5,2,8])\n",
        "returned_value = sum_dist(LL1, dist)\n",
        "print(f'Sum of Nodes: {returned_value}') #This should print Sum of Nodes: 4\n",
        "unittest.output_test(returned_value, 4)\n",
        "print()"
      ],
      "metadata": {
        "id": "AeUE5H0so6oP",
        "colab": {
          "base_uri": "https://localhost:8080/"
        },
        "outputId": "2148c42b-7f89-4316-e8eb-c44b4ee0be46"
      },
      "execution_count": null,
      "outputs": [
        {
          "output_type": "stream",
          "name": "stdout",
          "text": [
            "==============Test Case 1=============\n",
            "Sum of Nodes: 4\n",
            "Accepted\n",
            "\n"
          ]
        }
      ]
    },
    {
      "cell_type": "markdown",
      "source": [
        "Bonus Task: ID Generator"
      ],
      "metadata": {
        "id": "pNihvj0mqZGx"
      }
    },
    {
      "cell_type": "code",
      "source": [
        "def idGenerator(head1, head2, head3):\n",
        "  #TO DO\n",
        "\n",
        "\n",
        "print('==============Test Case 1=============')\n",
        "head1 = createList(np.array([0,3,2,2]))\n",
        "head2 = createList(np.array([5,2,2,1]))\n",
        "head3 = createList(np.array([4,3,2,1]))\n",
        "\n",
        "print(\"Linked List 1:\")\n",
        "printLinkedList(head1)\n",
        "print(\"Linked List 2:\")\n",
        "printLinkedList(head2)\n",
        "print(\"Linked List 3:\")\n",
        "printLinkedList(head3)\n",
        "\n",
        "result = idGenerator(head1, head2, head3)\n",
        "print(\"New ID:\")\n",
        "printLinkedList(result)    #This should print  2 → 2 → 3 → 0 → 9 → 5 → 4 → 2\n",
        "\n",
        "\n",
        "print('==============Test Case 2=============')\n",
        "head1 = createList(np.array([0,3,9,1]))\n",
        "head2 = createList(np.array([3,6,5,7]))\n",
        "head3 = createList(np.array([2,4,3,8]))\n",
        "\n",
        "print(\"Linked List 1:\")\n",
        "printLinkedList(head1)\n",
        "print(\"Linked List 2:\")\n",
        "printLinkedList(head2)\n",
        "print(\"Linked List 3:\")\n",
        "printLinkedList(head3)\n",
        "\n",
        "result = idGenerator(head1, head2, head3)\n",
        "print(\"New ID:\")\n",
        "printLinkedList(result)    #This should print 1 → 9 → 3 → 0 → 5 → 0 → 8 → 5"
      ],
      "metadata": {
        "id": "RxtRlCVCqcHV"
      },
      "execution_count": null,
      "outputs": []
    }
  ]
}